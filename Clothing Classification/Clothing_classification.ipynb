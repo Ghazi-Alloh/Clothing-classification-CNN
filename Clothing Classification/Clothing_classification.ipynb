{
  "nbformat": 4,
  "nbformat_minor": 0,
  "metadata": {
    "colab": {
      "provenance": [],
      "collapsed_sections": []
    },
    "kernelspec": {
      "name": "python3",
      "display_name": "Python 3"
    },
    "language_info": {
      "name": "python"
    }
  },
  "cells": [
    {
      "cell_type": "code",
      "execution_count": null,
      "metadata": {
        "id": "1xTZnYSWESKg"
      },
      "outputs": [],
      "source": [
        "#هذه هي المكاتب الاساسية التي نحتاجها \n",
        "#optimizer تتضمن نوع ال \n",
        "#نوع المودل\n",
        "#datasetادراج ال\n",
        "#مكتبة الرسم\n",
        "#np مكتبة\n",
        "#الخاصةبالتعامل مع المصفوفات\n",
        "import numpy as np\n",
        "from keras.datasets import fashion_mnist\n",
        "from keras.models import Sequential\n",
        "from keras.layers.core import Dense, Activation,Flatten,Dropout\n",
        "from keras.layers import  Input\n",
        "from tensorflow.keras.optimizers import SGD,Adam\n",
        "from keras.utils import np_utils\n",
        "import matplotlib.pyplot as plt\n",
        "from tensorflow.keras.layers import Conv2D,MaxPooling2D"
      ]
    },
    {
      "cell_type": "code",
      "source": [
        "#load dataset\n",
        "#تقسيم البيانات الى قسم للتدريب وقسم للاختبار\n",
        "(x_train,y_train),(x_test,y_test)=fashion_mnist.load_data()\n"
      ],
      "metadata": {
        "id": "Wcr1sAoiEcEp"
      },
      "execution_count": null,
      "outputs": []
    },
    {
      "cell_type": "code",
      "source": [
        "#صورة احد الكلاسات من الداتا قبل القيام بعملية نورمالايزيتين\n",
        "plt.imshow(x_train[0])"
      ],
      "metadata": {
        "colab": {
          "base_uri": "https://localhost:8080/",
          "height": 282
        },
        "id": "6NDdWPi21gA7",
        "outputId": "b4c7db57-f5cc-4e31-f14e-c60d030faed4"
      },
      "execution_count": null,
      "outputs": [
        {
          "output_type": "execute_result",
          "data": {
            "text/plain": [
              "<matplotlib.image.AxesImage at 0x7f30c2dcbdd0>"
            ]
          },
          "metadata": {},
          "execution_count": 3
        },
        {
          "output_type": "display_data",
          "data": {
            "image/png": "[encoded data removed]",
            "text/plain": [
              "<Figure size 432x288 with 1 Axes>"
            ]
          },
          "metadata": {
            "needs_background": "light"
          }
        }
      ]
    },
    {
      "cell_type": "code",
      "source": [
        "#reshape the images\n",
        "#اعادة تحجيم لصور التدريب وصور الاختبار للمقاس 28*28\n",
        "x_train=x_train.reshape(60000,28,28,1)\n",
        "x_test=x_test.reshape(10000,28,28,1)"
      ],
      "metadata": {
        "id": "NT0SBwkQEg54"
      },
      "execution_count": null,
      "outputs": []
    },
    {
      "cell_type": "code",
      "source": [
        "#show shape test,train \n",
        "#للتأكد فقط من ابعاد امثلة التدريب والاختبار\n",
        "print(\"x_train:\",x_train.shape)\n",
        "print(\"x_test:\",x_test.shape)\n"
      ],
      "metadata": {
        "colab": {
          "base_uri": "https://localhost:8080/"
        },
        "id": "CnKenxsAEiXo",
        "outputId": "2b6337e5-54c2-44f5-edec-9f40d98fe118"
      },
      "execution_count": null,
      "outputs": [
        {
          "output_type": "stream",
          "name": "stdout",
          "text": [
            "x_train: (60000, 28, 28, 1)\n",
            "x_test: (10000, 28, 28, 1)\n"
          ]
        }
      ]
    },
    {
      "cell_type": "code",
      "source": [
        "#normalize images\n",
        "#في هذه المرحلة نقوم بتحويل الصورة الى تدرجات الرمادي\n",
        "#x_train=x_train/255.0\n",
        "#x_test=x_test/255.0\n",
        "x_train=np_utils.normalize(x_train)\n",
        "x_test=np_utils.normalize(x_test)"
      ],
      "metadata": {
        "id": "o0rG5twi8hlL"
      },
      "execution_count": null,
      "outputs": []
    },
    {
      "cell_type": "code",
      "source": [
        "#y_train=np_utils.to_categorical(y_train,10)\n",
        "#y_test=np_utils.to_categorical(y_test,10)"
      ],
      "metadata": {
        "id": "o6Lj1KMJIqLG"
      },
      "execution_count": null,
      "outputs": []
    },
    {
      "cell_type": "markdown",
      "source": [],
      "metadata": {
        "id": "a1eTVLcexp_V"
      }
    },
    {
      "cell_type": "code",
      "source": [
        "#build the model\n",
        "#ننشئ مودل يتكون من عدة طبقات داخلية وطبقة خرج \n",
        "#  one vectorتستخدم لتحويل الدخل ل Flatten \n",
        "#في طبقة الخرج وضعنا عددالنيورونات 10 لانه يصنف بين 10 اصناف\n",
        "model= Sequential()\n",
        "#طبقة الفلتر\n",
        "model.add(Conv2D(32,(3,3),activation='relu',input_shape=(28,28,1)))\n",
        "#تقلل هذهالطبقة دقة الصورة \n",
        "model.add(MaxPooling2D(2,2))\n",
        "#يتم اهمال اجزاء من الصور\n",
        "model.add(Dropout(0.25))\n",
        "model.add(Flatten())\n",
        "model.add(Dense(128, activation=\"relu\"))\n",
        "model.add(Dropout(0.5))\n",
        "model.add(Dense(10, activation=\"softmax\"))"
      ],
      "metadata": {
        "id": "3DZEMGBXEn_w"
      },
      "execution_count": null,
      "outputs": []
    },
    {
      "cell_type": "code",
      "source": [
        "#compile model\n",
        "#كمقلل اخطاءadam اخترنا \n",
        "#  int من نوع lables لان ال sparse_categorical_crossentropy اخترنا lossتابع \n",
        "\n",
        "\n",
        "model.compile(optimizer=\"adam\",loss=\"sparse_categorical_crossentropy\", metrics=['accuracy'])"
      ],
      "metadata": {
        "id": "Ex7FAbO_Eq6A"
      },
      "execution_count": null,
      "outputs": []
    },
    {
      "cell_type": "code",
      "source": [
        "#fit the model\n",
        "# البدء بتدريب المودل على الداتا من خلال عدة دورات\n",
        "his=model.fit(x_train,y_train,batch_size=32,epochs=5,validation_data=(x_test,y_test))"
      ],
      "metadata": {
        "colab": {
          "base_uri": "https://localhost:8080/"
        },
        "id": "yvXfn5WUEtta",
        "outputId": "ce6655db-1b5b-46c6-ff86-e30f1f02f469"
      },
      "execution_count": null,
      "outputs": [
        {
          "output_type": "stream",
          "name": "stdout",
          "text": [
            "Epoch 1/5\n",
            "469/469 [==============================] - 29s 62ms/step - loss: 0.5410 - accuracy: 0.8040 - val_loss: 0.3848 - val_accuracy: 0.8572\n",
            "Epoch 2/5\n",
            "469/469 [==============================] - 27s 58ms/step - loss: 0.3852 - accuracy: 0.8593 - val_loss: 0.3520 - val_accuracy: 0.8675\n",
            "Epoch 3/5\n",
            "469/469 [==============================] - 23s 49ms/step - loss: 0.3508 - accuracy: 0.8695 - val_loss: 0.3398 - val_accuracy: 0.8723\n",
            "Epoch 4/5\n",
            "469/469 [==============================] - 23s 49ms/step - loss: 0.3286 - accuracy: 0.8770 - val_loss: 0.3261 - val_accuracy: 0.8795\n",
            "Epoch 5/5\n",
            "469/469 [==============================] - 24s 52ms/step - loss: 0.3143 - accuracy: 0.8817 - val_loss: 0.3196 - val_accuracy: 0.8796\n"
          ]
        }
      ]
    },
    {
      "cell_type": "code",
      "source": [
        "#طباعة التقييم الخاص بمرحلة التدريب\n",
        "score1 = model.evaluate(x_train, y_train, verbose=2)\n",
        "print('Loss: ', score1[0])\n",
        "print('Accuracy: ', score1[1])\n",
        "print()\n",
        "#طباعة التقييم الخاص بمرحلة الاختبار\n",
        "score2 = model.evaluate(x_test, y_test, verbose=2)\n",
        "print('Test Loss: ', score2[0])\n",
        "print('Test Accuracy: ', score2[1])"
      ],
      "metadata": {
        "colab": {
          "base_uri": "https://localhost:8080/"
        },
        "id": "2cRtFy-5Eyaz",
        "outputId": "1286f614-617b-41a7-9b59-3758d486d768"
      },
      "execution_count": null,
      "outputs": [
        {
          "output_type": "stream",
          "name": "stdout",
          "text": [
            "1875/1875 - 9s - loss: 0.2429 - accuracy: 0.9075 - 9s/epoch - 5ms/step\n",
            "Loss:  0.24290376901626587\n",
            "Accuracy:  0.9075333476066589\n",
            "\n",
            "313/313 - 1s - loss: 0.3196 - accuracy: 0.8796 - 1s/epoch - 5ms/step\n",
            "Test Loss:  0.31961891055107117\n",
            "Test Accuracy:  0.8795999884605408\n"
          ]
        }
      ]
    },
    {
      "cell_type": "code",
      "source": [
        "#هنا لرسم مسار التعلم ومسار التحقق\n",
        "plt.plot(his.history['accuracy'])\n",
        "plt.plot(his.history['val_accuracy'])\n",
        "plt.title('model accuracy')\n",
        "plt.ylabel('accuracy')\n",
        "plt.xlabel('epoch')\n",
        "plt.legend(['train', 'validation'], loc='upper left')\n",
        "plt.show()\n",
        "#معدل الخطأ في التعلم والاختبار\n",
        "plt.plot(his.history['loss'])\n",
        "plt.plot(his.history['val_loss'])\n",
        "plt.title('model Loos')\n",
        "plt.ylabel('loss')\n",
        "plt.xlabel('epoch')\n",
        "plt.legend(['train', 'validation'], loc='upper left')\n",
        "plt.show()"
      ],
      "metadata": {
        "colab": {
          "base_uri": "https://localhost:8080/",
          "height": 573
        },
        "id": "IRqfpxjjEzcQ",
        "outputId": "355ec3bb-7a8b-4b57-e4ad-01072f929c42"
      },
      "execution_count": null,
      "outputs": [
        {
          "output_type": "display_data",
          "data": {
            "image/png": "[encoded data removed]",
            "text/plain": [
              "<Figure size 432x288 with 1 Axes>"
            ]
          },
          "metadata": {
            "needs_background": "light"
          }
        },
        {
          "output_type": "display_data",
          "data": {
            "image/png": "[encoded data removed]",
            "text/plain": [
              "<Figure size 432x288 with 1 Axes>"
            ]
          },
          "metadata": {
            "needs_background": "light"
          }
        }
      ]
    }
  ]
}